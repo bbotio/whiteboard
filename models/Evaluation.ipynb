{
 "cells": [
  {
   "cell_type": "markdown",
   "metadata": {},
   "source": [
    "Необходимо понять какую метрику использовать чтобы оценивать качество моделей.\n",
    "\n",
    "Я брал за основу следующие работы:\n",
    "\n",
    "https://arxiv.org/pdf/1312.6229.pdf - OverFeat - это статья группы ЛеКуна которая предлагает общий фреймворк для классификации/детектирования объектов на изображении\n",
    "\n",
    "https://arxiv.org/pdf/1503.01640.pdf - \n",
    "\n",
    "http://dircweb.kingston.ac.uk/papers/Yin,%20Fei2007_841079/PerformanceEvaluationofObjectTrackingAlgorithms.pdf - \n",
    "\n",
    "https://www.merl.com/publications/docs/TR2006-041.pdf\n",
    "\n",
    "\n"
   ]
  }
 ],
 "metadata": {
  "kernelspec": {
   "display_name": "Python [conda root]",
   "language": "python",
   "name": "conda-root-py"
  },
  "language_info": {
   "codemirror_mode": {
    "name": "ipython",
    "version": 3
   },
   "file_extension": ".py",
   "mimetype": "text/x-python",
   "name": "python",
   "nbconvert_exporter": "python",
   "pygments_lexer": "ipython3",
   "version": "3.5.2"
  }
 },
 "nbformat": 4,
 "nbformat_minor": 1
}
