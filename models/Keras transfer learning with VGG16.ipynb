{
 "cells": [
  {
   "cell_type": "markdown",
   "metadata": {},
   "source": [
    "Берём натренированную VGG16, отрезаем голову и добавляем сверху слои для распознавания доски:"
   ]
  },
  {
   "cell_type": "code",
   "execution_count": 1,
   "metadata": {
    "collapsed": false
   },
   "outputs": [
    {
     "name": "stdout",
     "output_type": "stream",
     "text": [
      "/home/bfilippov/kaggle/whiteboard\n"
     ]
    }
   ],
   "source": [
    "cd .."
   ]
  },
  {
   "cell_type": "code",
   "execution_count": 2,
   "metadata": {
    "collapsed": false
   },
   "outputs": [
    {
     "name": "stderr",
     "output_type": "stream",
     "text": [
      "Using TensorFlow backend.\n"
     ]
    }
   ],
   "source": [
    "import keras\n",
    "import pandas as pd\n",
    "import ast\n",
    "\n",
    "train = pd.read_csv('source/train.csv')\n",
    "test = pd.read_csv('source/test.csv')\n",
    "train['labels'] = train['labels'].map(ast.literal_eval)\n",
    "test['labels'] = test['labels'].map(ast.literal_eval)"
   ]
  },
  {
   "cell_type": "code",
   "execution_count": 3,
   "metadata": {
    "collapsed": false
   },
   "outputs": [],
   "source": [
    "%load_ext autoreload\n",
    "%autoreload 2\n",
    "import tensorflow as tf\n",
    "\n",
    "from keras.layers import Dense, Flatten, Input\n",
    "from keras import backend as K\n",
    "\n",
    "from models.model_zoo import whiteboard_detector, whiteboard_loss\n",
    "from keras.applications import VGG16\n",
    "from models.image_generator import whiteboard_images\n",
    "\n",
    "sess = tf.Session()\n",
    "K.set_session(sess)\n",
    "\n",
    "input_height = 224\n",
    "input_width = 224\n",
    "\n",
    "input_image = Input(shape=(input_height, input_width, 3))\n",
    "resnet = VGG16(input_tensor=input_image, include_top=False)\n",
    "\n",
    "for l in resnet.layers:\n",
    "    l.trainable=False\n",
    "    \n",
    "resnet = Flatten()(resnet.output)\n",
    "resnet = Dense(128, activation='relu')(resnet)\n",
    "\n",
    "simple_detector = whiteboard_detector(input_image, resnet)\n",
    "\n",
    "simple_detector.compile(optimizer='adam', loss=whiteboard_loss)\n"
   ]
  },
  {
   "cell_type": "code",
   "execution_count": null,
   "metadata": {
    "collapsed": false
   },
   "outputs": [
    {
     "name": "stdout",
     "output_type": "stream",
     "text": [
      "Epoch 1/10\n",
      " 198/2000 [=>............................] - ETA: 2656s - loss: 48711.5142"
     ]
    }
   ],
   "source": [
    "img_dir = 'source/'\n",
    "img_size = (input_height, input_width)\n",
    "\n",
    "imgs = whiteboard_images(train, img_dir, img_size, batch_size=2)\n",
    "\n",
    "simple_detector.fit_generator(imgs, samples_per_epoch=2000, nb_epoch=10)"
   ]
  }
 ],
 "metadata": {
  "anaconda-cloud": {},
  "kernelspec": {
   "display_name": "Python [conda root]",
   "language": "python",
   "name": "conda_root"
  },
  "language_info": {
   "codemirror_mode": {
    "name": "ipython",
    "version": 3
   },
   "file_extension": ".py",
   "mimetype": "text/x-python",
   "name": "python",
   "nbconvert_exporter": "python",
   "pygments_lexer": "ipython3",
   "version": "3.5.2"
  }
 },
 "nbformat": 4,
 "nbformat_minor": 1
}
